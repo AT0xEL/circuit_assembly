{
  "nbformat": 4,
  "nbformat_minor": 0,
  "metadata": {
    "colab": {
      "name": "circuit_assembler.ipynb",
      "provenance": [],
      "collapsed_sections": [],
      "authorship_tag": "ABX9TyNzXzytKt19y8gNt4RpoYHg",
      "include_colab_link": true
    },
    "kernelspec": {
      "name": "python3",
      "display_name": "Python 3"
    },
    "language_info": {
      "name": "python"
    }
  },
  "cells": [
    {
      "cell_type": "markdown",
      "metadata": {
        "id": "view-in-github",
        "colab_type": "text"
      },
      "source": [
        "<a href=\"https://colab.research.google.com/github/AT0xEL/circuit_assembly/blob/main/circuit_assembler.ipynb\" target=\"_parent\"><img src=\"https://colab.research.google.com/assets/colab-badge.svg\" alt=\"Open In Colab\"/></a>"
      ]
    },
    {
      "cell_type": "code",
      "source": [
        "pip install lolviz"
      ],
      "metadata": {
        "colab": {
          "base_uri": "https://localhost:8080/"
        },
        "id": "dosdl8ydJmPU",
        "outputId": "5e9dead7-9f5b-4bae-8934-14cde64371fc"
      },
      "execution_count": null,
      "outputs": [
        {
          "output_type": "stream",
          "name": "stdout",
          "text": [
            "Requirement already satisfied: lolviz in /usr/local/lib/python3.7/dist-packages (1.4.4)\n",
            "Requirement already satisfied: graphviz in /usr/local/lib/python3.7/dist-packages (from lolviz) (0.10.1)\n"
          ]
        }
      ]
    },
    {
      "cell_type": "code",
      "execution_count": 17,
      "metadata": {
        "id": "isGfau5jIeqH",
        "colab": {
          "base_uri": "https://localhost:8080/",
          "height": 136
        },
        "outputId": "344ddca1-e210-4b56-f231-b2a1f9369659"
      },
      "outputs": [
        {
          "output_type": "error",
          "ename": "SyntaxError",
          "evalue": "ignored",
          "traceback": [
            "\u001b[0;36m  File \u001b[0;32m\"<ipython-input-17-2d015eeca9f7>\"\u001b[0;36m, line \u001b[0;32m41\u001b[0m\n\u001b[0;31m    from lolviz import *\u001b[0m\n\u001b[0m       ^\u001b[0m\n\u001b[0;31mSyntaxError\u001b[0m\u001b[0;31m:\u001b[0m invalid syntax\n"
          ]
        }
      ],
      "source": [
        "# Algorithm created by A1_0ZL This software is open source and free to use.\n",
        "# graph algorithm taken from https://python.org/doc/essays/graphs/\n",
        "# Why do I make this free? Here's why:\n",
        "# fizzbbuzzbuzzbuzzbuzzfizzfizzfizzfizzbuzzfizzfizzbuzzbuzzbuzzbuzzbuzzbuzzfizzfizzfizzbuzzbuzzfizzfizzbuzzfizzbuzzbuzzbuzzfizzfizzbuzz\n",
        "\n",
        "################################################################################################################\n",
        "# CLASS: Component\n",
        "#\n",
        "# name: Name of part\n",
        "# ----\n",
        "# type_of_part: What type of part this is\n",
        "# ----\n",
        "# dimensions: How large each side of the component is relative to its pins \n",
        "# ex's: 3-pin transistor is 3 x 1, 16-pin cpu is 4x4, etc.\n",
        "# ----\n",
        "# current_pos: simple 2 dimensional tuple of float values, (x,y)\n",
        "# unit of measurement most likely mm (milimeters)\n",
        "# ----\n",
        "# pick_pos: Where the robot arm is supposed to pick up the part relative to its current position, current_pos\n",
        "################################################################################################################\n",
        "class Component:\n",
        "  def __init__(self, name, type_of_part, dimensions, current_pos, pick_pos):\n",
        "    self.name = name\n",
        "    self.type_of_part = type_of_part\n",
        "    self.dimensions = dimensions\n",
        "    self.current_pos = current_pos\n",
        "    self.pick_pos = pick_pos\n",
        "\n",
        "class PCB:\n",
        "  def __init__(self):\n",
        "    pass\n",
        "\n",
        "class Circuit:\n",
        "  def __init__(self, components):\n",
        "    pass\n",
        "\n",
        "\n",
        "\n",
        "# graph work below. Create circuit data struct\n",
        "\n",
        "\n",
        "\n",
        "\n",
        "\n",
        "\n",
        "\n",
        "\n",
        "from lolviz import *\n",
        "data = ['hi','mom',{3,4},{\"parrt\":\"user\"}]\n",
        "g = listviz(data)\n",
        "#print(g.source) # if you want to see the graphviz source\n",
        "g.view() # render and show graphviz.files.Source object\n",
        "\n",
        "\n",
        "\n",
        "\n",
        "def find_all_paths(graph, start, end, path=[]):\n",
        "    path = path + [start]\n",
        "    if start == end:\n",
        "        return [path]\n",
        "    if not graph.has_key(start):\n",
        "        return []\n",
        "    paths = []\n",
        "    for node in graph[start]:\n",
        "        if node not in path:\n",
        "            newpaths = find_all_paths(graph, node, end, path)\n",
        "            for newpath in newpaths:\n",
        "                paths.append(newpath)\n",
        "    return paths\n",
        "    \"\"\"\n",
        "    \n",
        "    Few programming languages provide direct support for graphs as a data type, and Python is no exception. However, graphs are easily built out of lists and dictionaries. For instance, here's a simple graph (I can't use drawings in these columns, so I write down the graph's arcs):\n",
        "    \n",
        "    A -> B\n",
        "    A -> C\n",
        "    B -> C\n",
        "    B -> D\n",
        "    C -> D\n",
        "    D -> C\n",
        "    E -> F\n",
        "    F -> C\n",
        "    \n",
        "    This graph has six nodes (A-F) and eight arcs. It can be represented by the following Python data structure:\n",
        "    \n",
        "graph = {'A': ['B', 'C'],\n",
        "    'B': ['C', 'D'],\n",
        "    'C': ['D'],\n",
        "    'D': ['C'],\n",
        "    'E': ['F'],\n",
        "    'F': ['C']}\n",
        "\n",
        "    \n",
        "    \"\"\""
      ]
    }
  ]
}